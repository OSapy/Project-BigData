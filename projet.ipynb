{
 "cells": [
  {
   "cell_type": "code",
   "execution_count": null,
   "metadata": {},
   "outputs": [],
   "source": [
    "import requests\n",
    "import os\n",
    "\n",
    "# Define the API endpoint and your access key\n",
    "url = \"https://api.pexels.com/v1/search\"\n",
    "access_key = \"MgxBjp4CnSFtTvWe3SeHtkTGp5oUOBWVG5S0PYZAd37hV3T3h2yY4PHp\"\n",
    "\n",
    "# Define the headers with your access key\n",
    "headers = {\n",
    "    \"Authorization\": access_key\n",
    "}\n",
    "\n",
    "# Define the path to the images folder\n",
    "path = \"./images\"\n",
    "\n",
    "# Define the number of images to download\n",
    "num_images = 100\n",
    "\n",
    "# Define the query parameters\n",
    "query_params = {\n",
    "    \"query\": \"random\", \n",
    "    \"per_page\": num_images\n",
    "}\n",
    "\n",
    "# Create the images folder if it doesn't exist\n",
    "if not os.path.exists(path):\n",
    "    os.makedirs(path)\n",
    "\n",
    "# Send the API request and download the images\n",
    "response = requests.get(url, headers=headers, params=query_params)\n",
    "json = response.json()\n",
    "for i in range(num_images):\n",
    "    image_url = json[\"photos\"][i][\"src\"][\"original\"]\n",
    "    image_id = json[\"photos\"][i][\"id\"]\n",
    "    image_extension = \".jpg\" # change extension as per your requirement\n",
    "    image_filename = f\"{image_id}{image_extension}\"\n",
    "    image_path = os.path.join(path, image_filename)\n",
    "\n",
    "    # Download the image and save it to the images folder\n",
    "    response = requests.get(image_url)\n",
    "    with open(image_path, \"wb\") as f:\n",
    "        f.write(response.content)\n"
   ]
  },
  {
   "cell_type": "code",
   "execution_count": 9,
   "metadata": {},
   "outputs": [],
   "source": [
    "import os\n",
    "import json\n",
    "from PIL import Image\n",
    "from PIL.ExifTags import TAGS\n",
    "\n",
    "class MyEncoder(json.JSONEncoder):\n",
    "    def default(self, obj):\n",
    "        if isinstance(obj, bytes):\n",
    "            try:\n",
    "                return obj.decode('utf-8')\n",
    "            except UnicodeDecodeError:\n",
    "                return obj.decode('utf-8', 'replace')\n",
    "        return json.JSONEncoder.default(self, obj)\n",
    "\n",
    "# Path to the folder containing pictures\n",
    "path_to_folder = './images'\n",
    "\n",
    "# Dictionary to store metadata of all pictures\n",
    "metadata = {}\n",
    "\n",
    "# Loop over all pictures in the folder\n",
    "for filename in os.listdir(path_to_folder):\n",
    "    if filename.endswith('.jpg') or filename.endswith('.jpeg') or filename.endswith('.png'):\n",
    "        # Open the image and get the EXIF data\n",
    "        image = Image.open(os.path.join(path_to_folder, filename))\n",
    "        exifdata = image.getexif()\n",
    "\n",
    "        # Loop over all EXIF tags and add them to the metadata dictionary\n",
    "        for tag_id, value in exifdata.items():\n",
    "            tag = TAGS.get(tag_id, tag_id)\n",
    "            metadata[filename] = {tag: value}\n",
    "\n",
    "# Write the metadata dictionary to a JSON file\n",
    "with open('metadata.json', 'w') as f:\n",
    "    json.dump(metadata, f, cls=MyEncoder)"
   ]
  }
 ],
 "metadata": {
  "kernelspec": {
   "display_name": "Python 3",
   "language": "python",
   "name": "python3"
  },
  "language_info": {
   "codemirror_mode": {
    "name": "ipython",
    "version": 3
   },
   "file_extension": ".py",
   "mimetype": "text/x-python",
   "name": "python",
   "nbconvert_exporter": "python",
   "pygments_lexer": "ipython3",
   "version": "3.8.10"
  },
  "orig_nbformat": 4,
  "vscode": {
   "interpreter": {
    "hash": "31f2aee4e71d21fbe5cf8b01ff0e069b9275f58929596ceb00d14d90e3e16cd6"
   }
  }
 },
 "nbformat": 4,
 "nbformat_minor": 2
}
